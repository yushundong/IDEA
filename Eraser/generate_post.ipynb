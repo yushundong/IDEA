{
 "cells": [
  {
   "cell_type": "code",
   "execution_count": 57,
   "metadata": {},
   "outputs": [
    {
     "name": "stdout",
     "output_type": "stream",
     "text": [
      "Community data file found at: ./temp_data/processed_data/cora/community_sage_km_20_0.1\n",
      "./temp_data/processed_data/cora/community_sage_km_20_0.1\n"
     ]
    }
   ],
   "source": [
    "import os\n",
    "import pickle\n",
    "\n",
    "# Specify the directory to search in\n",
    "directory = './'\n",
    "\n",
    "# Search for the community data file\n",
    "community_data_paths = []\n",
    "for root, dirs, files in os.walk(directory):\n",
    "    for file in files:\n",
    "        if 'community' in file and 'cora' in root:\n",
    "            community_data_paths.append(os.path.join(root, file))\n",
    "\n",
    "# Load the first pickle file found\n",
    "if community_data_paths:\n",
    "    community_data_path = community_data_paths[0]\n",
    "    print(\"Community data file found at:\", community_data_path)\n",
    "\n",
    "    with open(community_data_path, 'rb') as file:\n",
    "        community_data = pickle.load(file)\n",
    "\n",
    "        # Print the loaded data\n",
    "        print(community_data_path)\n",
    "else:\n",
    "    print(\"No community data file found.\")\n"
   ]
  },
  {
   "cell_type": "code",
   "execution_count": 65,
   "metadata": {},
   "outputs": [
    {
     "data": {
      "text/plain": [
       "(134,)"
      ]
     },
     "execution_count": 65,
     "metadata": {},
     "output_type": "execute_result"
    }
   ],
   "source": [
    "community_data[0].shape"
   ]
  },
  {
   "cell_type": "code",
   "execution_count": 68,
   "metadata": {},
   "outputs": [
    {
     "name": "stdout",
     "output_type": "stream",
     "text": [
      "torch.Size([271, 7])\n"
     ]
    }
   ],
   "source": [
    "import torch\n",
    "\n",
    "file_path = '../Graph-Unlearning/temp_data/analysis_data/posteriors/cora/GAT_sage_km_20_0.005_0.1_0'\n",
    "\n",
    "data_tensor = torch.load(file_path)\n",
    "\n",
    "# print(data_tensor)\n",
    "print(data_tensor[0].shape)\n"
   ]
  },
  {
   "cell_type": "code",
   "execution_count": 9,
   "metadata": {},
   "outputs": [
    {
     "ename": "AttributeError",
     "evalue": "'GAT' object has no attribute 'forward'",
     "output_type": "error",
     "traceback": [
      "\u001b[0;31m---------------------------------------------------------------------------\u001b[0m",
      "\u001b[0;31mAttributeError\u001b[0m                            Traceback (most recent call last)",
      "Cell \u001b[0;32mIn[9], line 24\u001b[0m\n\u001b[1;32m     21\u001b[0m data \u001b[38;5;241m=\u001b[39m dataset[\u001b[38;5;241m0\u001b[39m]\n\u001b[1;32m     23\u001b[0m \u001b[38;5;66;03m# Get the prediction of the model\u001b[39;00m\n\u001b[0;32m---> 24\u001b[0m \u001b[43mmodel\u001b[49m\u001b[38;5;241;43m.\u001b[39;49m\u001b[43mforward\u001b[49m(data)\n",
      "\u001b[0;31mAttributeError\u001b[0m: 'GAT' object has no attribute 'forward'"
     ]
    }
   ],
   "source": [
    "import torch\n",
    "from lib_gnn_model.gat.gat import GAT\n",
    "import pandas as pd\n",
    "from torch_geometric.datasets import Planetoid\n",
    "import torch_geometric.transforms as T\n",
    "RAW_DATA_PATH = '../Graph-Unlearning/temp_data/raw_data/'\n",
    "\n",
    "# Specify the file path of the saved model\n",
    "model_file_path = '../Graph-Unlearning/temp_data/models/citeseer/GAT_lpa_10_0.005_0_0_0_100'\n",
    "\n",
    "# Load the model\n",
    "model = torch.load(model_file_path)\n",
    "\n",
    "# Initialize the model\n",
    "model = GAT(num_feats=3703, num_classes=6)\n",
    "\n",
    "dataset = Planetoid(\n",
    "                RAW_DATA_PATH, 'citeseer', transform=T.NormalizeFeatures()\n",
    "            )\n",
    "\n",
    "data = dataset[0]\n",
    "\n",
    "# Get the prediction of the model\n",
    "model.forward(data)"
   ]
  }
 ],
 "metadata": {
  "kernelspec": {
   "display_name": "ceu",
   "language": "python",
   "name": "python3"
  },
  "language_info": {
   "codemirror_mode": {
    "name": "ipython",
    "version": 3
   },
   "file_extension": ".py",
   "mimetype": "text/x-python",
   "name": "python",
   "nbconvert_exporter": "python",
   "pygments_lexer": "ipython3",
   "version": "3.8.18"
  }
 },
 "nbformat": 4,
 "nbformat_minor": 2
}
