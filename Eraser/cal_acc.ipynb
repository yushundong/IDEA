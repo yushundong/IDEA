{
 "cells": [
  {
   "cell_type": "code",
   "execution_count": 1,
   "metadata": {},
   "outputs": [
    {
     "name": "stdout",
     "output_type": "stream",
     "text": [
      "& xx.xx $\\pm$ x.x     & 55.64 $\\pm$ 2.8        \\\\\n",
      "& xx.xx $\\pm$ x.x     & 51.81 $\\pm$ 0.3        \\\\\n",
      "& xx.xx $\\pm$ x.x     & 50.84 $\\pm$ 3.4        \\\\\n"
     ]
    }
   ],
   "source": [
    "# import pandas as pd\n",
    "import pandas as pd\n",
    "# pd.read_csv('result/attack_results.csv')\n",
    "# Read the CSV file\n",
    "df = pd.read_csv('result/attack_results.csv')\n",
    "\n",
    "# Calculate the mean and standard deviation for accuracy\n",
    "for partition_method in df['Partition Method'].unique():\n",
    "    mean_accuracy = df[df['Partition Method'] == partition_method]['Test AUC'].mean()*100\n",
    "    std_accuracy = df[df['Partition Method'] == partition_method]['Test AUC'].std()*100\n",
    "    print(f'& xx.xx $\\pm$ x.x     & {mean_accuracy:.2f} $\\pm$ {std_accuracy:.1f}        \\\\\\\\')\n",
    "\n",
    "# Create a new DataFrame to store the results\n",
    "# result_df = pd.DataFrame({'mean_accuracy': [mean_accuracy], 'std_accuracy': [std_accuracy]})\n",
    "\n",
    "\n",
    "# Save the results to a CSV file\n",
    "# result_df.to_csv('result/accuracy_stats.csv', index=False)\n"
   ]
  },
  {
   "cell_type": "markdown",
   "metadata": {},
   "source": [
    "Feature"
   ]
  },
  {
   "cell_type": "code",
   "execution_count": 4,
   "metadata": {},
   "outputs": [],
   "source": [
    "import pandas as pd\n",
    "df = pd.read_csv('result/output.csv')\n",
    "grouped_average_loss = df.groupby(['Method', 'Partition Method', 'Dataset', 'Feature Removed', 'Remove Feature Ratio'])['Loss0'].mean()\n",
    "#std\n",
    "grouped_std_loss = df.groupby(['Method', 'Partition Method', 'Dataset', 'Feature Removed', 'Remove Feature Ratio'])['Loss0'].std()"
   ]
  },
  {
   "cell_type": "code",
   "execution_count": 5,
   "metadata": {},
   "outputs": [
    {
     "data": {
      "text/plain": [
       "Method  Partition Method  Dataset      Feature Removed  Remove Feature Ratio\n",
       "GCN     lpa               Coauthor_CS  False            0.2                     0.53\n",
       "                                       True             0.2                     0.53\n",
       "                                                        0.5                     0.53\n",
       "                                                        0.8                     0.61\n",
       "                          citeseer     True             0.2                     1.40\n",
       "                                                        0.5                     1.45\n",
       "                                                        0.8                     1.50\n",
       "        random            Coauthor_CS  False            0.2                     0.43\n",
       "                                       True             0.2                     0.50\n",
       "                                                        0.5                     0.42\n",
       "                                                        0.8                     0.41\n",
       "                          citeseer     True             0.2                     1.44\n",
       "                                                        0.5                     1.43\n",
       "                                                        0.8                     1.48\n",
       "        sage_km           Coauthor_CS  False            0.2                     0.45\n",
       "                                       True             0.2                     0.41\n",
       "                                                        0.5                     0.39\n",
       "                                                        0.8                     0.50\n",
       "                          citeseer     True             0.2                     1.44\n",
       "                                                        0.5                     1.50\n",
       "                                                        0.8                     1.51\n",
       "Name: Loss0, dtype: float64"
      ]
     },
     "execution_count": 5,
     "metadata": {},
     "output_type": "execute_result"
    }
   ],
   "source": [
    "round(grouped_average_loss, 2)"
   ]
  },
  {
   "cell_type": "code",
   "execution_count": 6,
   "metadata": {},
   "outputs": [
    {
     "data": {
      "text/plain": [
       "Method  Partition Method  Dataset      Feature Removed  Remove Feature Ratio\n",
       "GCN     lpa               Coauthor_CS  False            0.2                     0.05\n",
       "                                       True             0.2                      NaN\n",
       "                                                        0.5                      NaN\n",
       "                                                        0.8                      NaN\n",
       "                          citeseer     True             0.2                     0.19\n",
       "                                                        0.5                     0.27\n",
       "                                                        0.8                     0.09\n",
       "        random            Coauthor_CS  False            0.2                     0.04\n",
       "                                       True             0.2                      NaN\n",
       "                                                        0.5                      NaN\n",
       "                                                        0.8                      NaN\n",
       "                          citeseer     True             0.2                     0.09\n",
       "                                                        0.5                     0.08\n",
       "                                                        0.8                     0.12\n",
       "        sage_km           Coauthor_CS  False            0.2                     0.04\n",
       "                                       True             0.2                      NaN\n",
       "                                                        0.5                      NaN\n",
       "                                                        0.8                      NaN\n",
       "                          citeseer     True             0.2                     0.06\n",
       "                                                        0.5                     0.04\n",
       "                                                        0.8                     0.09\n",
       "Name: Loss0, dtype: float64"
      ]
     },
     "execution_count": 6,
     "metadata": {},
     "output_type": "execute_result"
    }
   ],
   "source": [
    "round(grouped_std_loss, 2)"
   ]
  },
  {
   "cell_type": "code",
   "execution_count": null,
   "metadata": {},
   "outputs": [],
   "source": []
  }
 ],
 "metadata": {
  "kernelspec": {
   "display_name": "ceu",
   "language": "python",
   "name": "python3"
  },
  "language_info": {
   "codemirror_mode": {
    "name": "ipython",
    "version": 3
   },
   "file_extension": ".py",
   "mimetype": "text/x-python",
   "name": "python",
   "nbconvert_exporter": "python",
   "pygments_lexer": "ipython3",
   "version": "3.8.18"
  }
 },
 "nbformat": 4,
 "nbformat_minor": 2
}
