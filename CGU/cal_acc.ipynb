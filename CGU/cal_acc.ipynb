{
 "cells": [
  {
   "cell_type": "code",
   "execution_count": 1,
   "metadata": {},
   "outputs": [
    {
     "name": "stdout",
     "output_type": "stream",
     "text": [
      "& xx.xx $\\pm$ x.x     & 66.52 $\\pm$ 0.6        \\\\\n"
     ]
    }
   ],
   "source": [
    "# import pandas as pd\n",
    "import pandas as pd\n",
    "# pd.read_csv('result/attack_results.csv')\n",
    "# Read the CSV file\n",
    "df = pd.read_csv('result/attack_results.csv')\n",
    "\n",
    "# Calculate the mean and standard deviation for accuracy\n",
    "mean_accuracy = df['Test AUC'].mean()*100\n",
    "std_accuracy = df['Test AUC'].std()*100\n",
    "\n",
    "print(f'& xx.xx $\\pm$ x.x     & {mean_accuracy:.2f} $\\pm$ {std_accuracy:.1f}        \\\\\\\\')\n"
   ]
  },
  {
   "cell_type": "code",
   "execution_count": 14,
   "metadata": {},
   "outputs": [
    {
     "data": {
      "text/plain": [
       "0.02964978882427773"
      ]
     },
     "execution_count": 14,
     "metadata": {},
     "output_type": "execute_result"
    }
   ],
   "source": [
    "df"
   ]
  }
 ],
 "metadata": {
  "kernelspec": {
   "display_name": "ceu",
   "language": "python",
   "name": "python3"
  },
  "language_info": {
   "codemirror_mode": {
    "name": "ipython",
    "version": 3
   },
   "file_extension": ".py",
   "mimetype": "text/x-python",
   "name": "python",
   "nbconvert_exporter": "python",
   "pygments_lexer": "ipython3",
   "version": "3.8.18"
  }
 },
 "nbformat": 4,
 "nbformat_minor": 2
}
